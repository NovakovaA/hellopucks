{
 "cells": [
  {
   "cell_type": "code",
   "execution_count": null,
   "metadata": {
    "vscode": {
     "languageId": "plaintext"
    }
   },
   "outputs": [],
   "source": [
    "import numpy as np\n",
    "import cv2 \n",
    "import time\n",
    "import matplotlib.pyplot as plt"
   ]
  },
  {
   "cell_type": "code",
   "execution_count": null,
   "metadata": {
    "vscode": {
     "languageId": "plaintext"
    }
   },
   "outputs": [],
   "source": [
    "low = np.array([90, 86, 1])\n",
    "high = np.array([192,255,255])"
   ]
  },
  {
   "cell_type": "code",
   "execution_count": null,
   "metadata": {
    "vscode": {
     "languageId": "plaintext"
    }
   },
   "outputs": [],
   "source": [
    "img = cv2.imread('image.png')\n",
    "plt.imshow(cv2.cvtColor(img, cv2.COLOR_BGR2RGB))"
   ]
  },
  {
   "cell_type": "code",
   "execution_count": null,
   "metadata": {
    "vscode": {
     "languageId": "plaintext"
    }
   },
   "outputs": [],
   "source": [
    "pozicepuku = []\n",
    "img = cv2.cvtColor(img, cv2.COLOR_BGR2HSV)\n",
    "mask = cv2.inRange(img,low,high)\n",
    "contours, hierarchy = cv2.findContours(mask, cv2.RETR_EXTERNAL, cv2.CHAIN_APPROX_SIMPLE )\n",
    "if len(contours) != 0:\n",
    "    for contour in contours:\n",
    "        if cv2.contourArea(contour) > 10000:\n",
    "            x,y,w,h = cv2.boundingRect(contour)\n",
    "            p= x,y,w,h\n",
    "            cv2.rectangle(img, (x,y),(x+w,y+h),(0,255,255),5)\n",
    "            pozicepuku.append(p)\n",
    "plt.imshow(cv2.cvtColor(mask, cv2.COLOR_BGR2RGB))"
   ]
  },
  {
   "cell_type": "code",
   "execution_count": null,
   "metadata": {
    "vscode": {
     "languageId": "plaintext"
    }
   },
   "outputs": [],
   "source": [
    "plt.imshow(cv2.cvtColor(img, cv2.COLOR_HSV2RGB))\n",
    "i = 0\n",
    "list_all_x = []\n",
    "list_all_y = []\n",
    "for a in pozicepuku:\n",
    "    x,y,w,h = pozicepuku[i]\n",
    "    center_x = (x + w/2)\n",
    "    list_all_x.append(center_x)\n",
    "    center_y = (y + h/2)\n",
    "    list_all_y.append(center_y)\n",
    "    print(center_x, center_y)\n",
    "    i = i + 1\n"
   ]
  },
  {
   "cell_type": "code",
   "execution_count": null,
   "metadata": {
    "vscode": {
     "languageId": "plaintext"
    }
   },
   "outputs": [],
   "source": [
    "\n",
    "list_all_y.sort()\n",
    "print(list_all_x[0], list_all_y[0])"
   ]
  }
 ],
 "metadata": {
  "language_info": {
   "name": "python"
  }
 },
 "nbformat": 4,
 "nbformat_minor": 2
}
